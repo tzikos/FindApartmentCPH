{
 "cells": [
  {
   "cell_type": "code",
   "execution_count": 1,
   "metadata": {},
   "outputs": [],
   "source": [
    "import pandas as pd\n",
    "import numpy as np\n",
    "import matplotlib.pyplot as plt\n",
    "import seaborn as sns\n",
    "from pathlib import Path"
   ]
  },
  {
   "cell_type": "code",
   "execution_count": 7,
   "metadata": {},
   "outputs": [],
   "source": [
    "df = pd.read_csv('../data/latest/preprocessed_data_latest.csv')"
   ]
  },
  {
   "cell_type": "code",
   "execution_count": 11,
   "metadata": {},
   "outputs": [
    {
     "data": {
      "text/plain": [
       "rental_period\n",
       "24+ måneder      33\n",
       "Ubegrænset       25\n",
       "34.900 kr.       13\n",
       "12-23 måneder    11\n",
       "7.225 kr.         9\n",
       "                 ..\n",
       "54.180 kr.        1\n",
       "55.180 kr.        1\n",
       "87.279 kr.        1\n",
       "85.350 kr.        1\n",
       "27.400 kr.        1\n",
       "Name: count, Length: 1132, dtype: int64"
      ]
     },
     "execution_count": 11,
     "metadata": {},
     "output_type": "execute_result"
    }
   ],
   "source": [
    "df['rental_period'].value_counts()"
   ]
  },
  {
   "cell_type": "code",
   "execution_count": null,
   "metadata": {},
   "outputs": [],
   "source": [
    "## Make directory for plots\n",
    "\n",
    "Path(\"./plots\").mkdir(exist_ok=True)"
   ]
  },
  {
   "cell_type": "code",
   "execution_count": null,
   "metadata": {},
   "outputs": [],
   "source": [
    "df.info()"
   ]
  },
  {
   "cell_type": "code",
   "execution_count": null,
   "metadata": {},
   "outputs": [],
   "source": [
    "df['energy_mark'].value_counts()"
   ]
  },
  {
   "cell_type": "code",
   "execution_count": null,
   "metadata": {},
   "outputs": [],
   "source": [
    "df[df.select_dtypes(include=['object', 'bool']).columns.tolist()].columns"
   ]
  },
  {
   "cell_type": "markdown",
   "metadata": {},
   "source": [
    "### First Attempt of Summary Statistics"
   ]
  },
  {
   "cell_type": "code",
   "execution_count": null,
   "metadata": {},
   "outputs": [],
   "source": [
    "from scipy import stats\n",
    "# Calculate Z-scores\n",
    "z_scores = np.abs(stats.zscore(df['monthly_rent']))\n",
    "\n",
    "# Set a threshold (commonly 3)\n",
    "threshold = 3\n",
    "\n",
    "# Identify outliers\n",
    "df[z_scores > threshold]"
   ]
  },
  {
   "cell_type": "code",
   "execution_count": null,
   "metadata": {},
   "outputs": [],
   "source": [
    "z_scores = np.abs(stats.zscore(df['monthly_aconto']))\n",
    "\n",
    "# Set a threshold (commonly 3)\n",
    "threshold = 3\n",
    "\n",
    "# Identify outliers\n",
    "df[z_scores > threshold]"
   ]
  },
  {
   "cell_type": "code",
   "execution_count": null,
   "metadata": {},
   "outputs": [],
   "source": [
    "# 1. Quick Summary Statistics\n",
    "print(\"Summary Statistics:\")\n",
    "print(df.describe())"
   ]
  },
  {
   "cell_type": "code",
   "execution_count": null,
   "metadata": {},
   "outputs": [],
   "source": [
    "continuous_vars = df.select_dtypes(include=['number']).columns.tolist()\n",
    "continuous_ratio_vars = df.select_dtypes(include=['float64']).columns.tolist()"
   ]
  },
  {
   "cell_type": "code",
   "execution_count": null,
   "metadata": {},
   "outputs": [],
   "source": [
    "# 2. Correlation Matrix for the numerical variables\n",
    "correlation_matrix = df[continuous_vars].corr()\n",
    "print(\"\\nCorrelation Matrix:\")\n",
    "print(correlation_matrix)"
   ]
  },
  {
   "cell_type": "code",
   "execution_count": null,
   "metadata": {},
   "outputs": [],
   "source": [
    "# 3. Heatmap of Correlation Matrix\n",
    "plt.figure(figsize=(10, 8))\n",
    "sns.heatmap(correlation_matrix, annot=True, cmap='coolwarm', fmt=\".2f\")\n",
    "plt.title('Correlation Matrix Heatmap')\n",
    "plt.savefig('plots/cor_matrix_heatmap.png')\n",
    "plt.subplots_adjust(left=0.35, bottom=0.5)\n",
    "plt.show()"
   ]
  },
  {
   "cell_type": "code",
   "execution_count": null,
   "metadata": {},
   "outputs": [],
   "source": [
    "len(df[df['monthly_aconto']==0])/len(df)*100"
   ]
  },
  {
   "cell_type": "code",
   "execution_count": null,
   "metadata": {},
   "outputs": [],
   "source": [
    "np.max(df['monthly_aconto'])"
   ]
  },
  {
   "cell_type": "code",
   "execution_count": null,
   "metadata": {},
   "outputs": [],
   "source": [
    "# 4. Scatterplot Matrix with Histograms (only continuous ratio variables)\n",
    "sns.pairplot(df[df.select_dtypes(include=['float64']).columns.tolist()])\n",
    "plt.title('Scatterplot Matrix')\n",
    "plt.show()"
   ]
  },
  {
   "cell_type": "code",
   "execution_count": null,
   "metadata": {},
   "outputs": [],
   "source": [
    "# distribution of total monthly rent\n",
    "\n",
    "fig = plt.figure(figsize=(8,8))\n",
    "sns.histplot(df['total_monthly_rent'], kde=True, color='lightcoral', edgecolor='mistyrose')\n",
    "\n",
    "\n",
    "# add labels and title\n",
    "plt.xlabel('Total Monthly Rent')\n",
    "plt.ylabel('Frequency')\n",
    "plt.title('Distribution of Total Monthly Rent')\n",
    "\n",
    "plt.savefig(\"./plots/distribution_total_monthly_rent.png\")\n",
    "\n",
    "plt.show()"
   ]
  },
  {
   "cell_type": "code",
   "execution_count": null,
   "metadata": {},
   "outputs": [],
   "source": [
    "for var in df.select_dtypes(include=['float64']).columns.tolist():\n",
    "    plt.figure(figsize=(8, 5))\n",
    "    sns.boxplot(x=df[var])\n",
    "    plt.title(f'Box Plot of {var}')\n",
    "    plt.xlabel(var)\n",
    "    plt.savefig(\"./plots/{}_boxplot.png\".format(var))\n",
    "    plt.show()"
   ]
  },
  {
   "cell_type": "code",
   "execution_count": null,
   "metadata": {},
   "outputs": [],
   "source": [
    "discrete_vars = df.select_dtypes(include=['object']).columns.tolist() \n",
    "continuous_var = 'total_monthly_rent' # We choose only the dependent variable we later want to predict\n",
    "\n",
    "\n",
    "# Creating bar charts\n",
    "for discrete_var in discrete_vars:\n",
    "    plt.figure(figsize=(8, 5))\n",
    "    sns.barplot(x=discrete_var, y=continuous_var, data=df, ci=None, color='teal')\n",
    "    plt.title(f'Bar Chart of Avg. {continuous_var} by {discrete_var}')\n",
    "    plt.xlabel(discrete_var)\n",
    "    plt.ylabel(continuous_var)\n",
    "    plt.show()"
   ]
  },
  {
   "cell_type": "code",
   "execution_count": null,
   "metadata": {},
   "outputs": [],
   "source": [
    "df.head()"
   ]
  },
  {
   "cell_type": "markdown",
   "metadata": {},
   "source": [
    "### Attempt with the log transformed variables"
   ]
  },
  {
   "cell_type": "markdown",
   "metadata": {},
   "source": [
    "We were familiar with a technique to have more interpretable results, which is to transform the data with a function, in this case the log works for us, as the data has a long tail and contains outliers, so applying a log transformation to the variables helps normalize the distribution and make the histograms more interpretable."
   ]
  },
  {
   "cell_type": "code",
   "execution_count": null,
   "metadata": {},
   "outputs": [],
   "source": [
    "for var in continuous_ratio_vars:\n",
    "    if var!='size_sqm' and var!='days_on_website':\n",
    "        df[f'{var}_log'] = np.log1p(df[var])"
   ]
  },
  {
   "cell_type": "code",
   "execution_count": null,
   "metadata": {},
   "outputs": [],
   "source": [
    "continuous_ratio_log_vars = [col for col in df.select_dtypes(include=['float64']).columns.tolist() if ('log' in col or col=='size_sqm' or col=='days_on_website')]"
   ]
  },
  {
   "cell_type": "code",
   "execution_count": null,
   "metadata": {},
   "outputs": [],
   "source": [
    "# 1. Quick Summary Statistics\n",
    "print(\"Summary Statistics:\")\n",
    "print(df.describe())"
   ]
  },
  {
   "cell_type": "code",
   "execution_count": null,
   "metadata": {},
   "outputs": [],
   "source": [
    "# 2. Correlation Matrix for the numerical variables\n",
    "correlation_matrix_vars = continuous_ratio_log_vars.extend(['floor','rooms'])\n",
    "correlation_matrix = df[continuous_ratio_log_vars].corr()\n",
    "print(\"\\nCorrelation Matrix:\")\n",
    "print(correlation_matrix)"
   ]
  },
  {
   "cell_type": "code",
   "execution_count": null,
   "metadata": {},
   "outputs": [],
   "source": [
    "# 3. Heatmap of Correlation Matrix\n",
    "plt.figure(figsize=(10, 8))\n",
    "sns.heatmap(correlation_matrix, annot=True, cmap='coolwarm', fmt=\".2f\")\n",
    "plt.title('Correlation Matrix Heatmap')\n",
    "plt.subplots_adjust(left=0.2, bottom=0.2)\n",
    "plt.savefig('plots/log_cor_matrix_heatmap.png')\n",
    "plt.show()"
   ]
  },
  {
   "cell_type": "code",
   "execution_count": null,
   "metadata": {},
   "outputs": [],
   "source": [
    "# 4. Scatterplot Matrix with Histograms (only continuous ratio variables)\n",
    "sns.pairplot(df[continuous_ratio_log_vars])\n",
    "plt.title('Scatterplot Matrix')\n",
    "plt.show()"
   ]
  },
  {
   "cell_type": "code",
   "execution_count": null,
   "metadata": {},
   "outputs": [],
   "source": [
    "# Logarithmic distribution of total monthly rent\n",
    "\n",
    "fig = plt.figure(figsize=(8,8))\n",
    "sns.histplot(df['total_monthly_rent_log'], kde=True, color='lightcoral', edgecolor='mistyrose')\n",
    "\n",
    "\n",
    "# add labels and title\n",
    "plt.xlabel('Total Monthly Rent (Log)')\n",
    "plt.ylabel('Frequency')\n",
    "plt.title('Distribution of log-transformed Total Monthly Rent')\n",
    "\n",
    "plt.savefig(\"./plots/log_distribution_total_monthly_rent.png\")\n",
    "\n",
    "plt.show()"
   ]
  },
  {
   "cell_type": "code",
   "execution_count": null,
   "metadata": {},
   "outputs": [],
   "source": [
    "for var in continuous_ratio_log_vars:\n",
    "    plt.figure(figsize=(8, 5))\n",
    "    sns.boxplot(x=df[var], color='teal')\n",
    "    plt.title(f'Box Plot of log-transformed {var}')\n",
    "    plt.xlabel(var)\n",
    "    plt.savefig(\"./plots/{}_log_boxplot.png\".format(var))\n",
    "    plt.show()"
   ]
  },
  {
   "cell_type": "code",
   "execution_count": null,
   "metadata": {},
   "outputs": [],
   "source": [
    "# 5. Bar charts of continuous variables by discrete variables\n",
    "discrete_vars = df.select_dtypes(include=['object']).columns.tolist() \n",
    "continuous_var = 'total_monthly_rent' # We choose only the dependent variable we later want to predict\n",
    "\n",
    "# Creating bar charts\n",
    "for discrete_var in discrete_vars:\n",
    "    plt.figure(figsize=(8, 5))\n",
    "    sns.barplot(x=discrete_var, y=continuous_var, data=df, color='teal')\n",
    "    plt.title(f'Bar Chart of Avg. {continuous_var} by {discrete_var}')\n",
    "    plt.xlabel(discrete_var)\n",
    "    plt.ylabel(continuous_var)\n",
    "    plt.show()"
   ]
  },
  {
   "cell_type": "code",
   "execution_count": null,
   "metadata": {},
   "outputs": [],
   "source": [
    "df1 = df.drop(columns=[col for col in continuous_ratio_vars if (col!='size_sqm' and col!='days_on_website')])"
   ]
  },
  {
   "cell_type": "code",
   "execution_count": null,
   "metadata": {},
   "outputs": [],
   "source": [
    "df1.to_csv('preprocessed_log_data.csv', index=False, header=True, encoding='utf-8')"
   ]
  }
 ],
 "metadata": {
  "kernelspec": {
   "display_name": "find_apartment",
   "language": "python",
   "name": "python3"
  },
  "language_info": {
   "codemirror_mode": {
    "name": "ipython",
    "version": 3
   },
   "file_extension": ".py",
   "mimetype": "text/x-python",
   "name": "python",
   "nbconvert_exporter": "python",
   "pygments_lexer": "ipython3",
   "version": "3.11.11"
  }
 },
 "nbformat": 4,
 "nbformat_minor": 4
}
